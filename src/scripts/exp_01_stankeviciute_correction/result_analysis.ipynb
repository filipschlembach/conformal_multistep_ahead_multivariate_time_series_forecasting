{
 "cells": [
  {
   "cell_type": "markdown",
   "source": [
    "# Result Analysis\n",
    "\n",
    "This experiment tries to replicate the results published by [Stankevičiūtė et al. - 2021 .Conformal time-series forecasting](https://proceedings.neurips.cc/paper/2021/hash/312f1ba2a72318edaaa995a67835fad5-Abstract.html) and to analyze the effects of different correction functions on them.\n",
    "\n",
    "In this notebook I analyse the results produced by running the experiment."
   ],
   "metadata": {
    "collapsed": false,
    "pycharm": {
     "name": "#%% md\n"
    }
   }
  },
  {
   "cell_type": "code",
   "execution_count": 1,
   "outputs": [],
   "source": [
    "import logging\n",
    "import os.path\n",
    "\n",
    "import pandas as pd\n",
    "\n",
    "from metrics.mae import MAE\n",
    "from metrics.coverage_rate import CoverageRate, CoverageRateByTimeStep\n",
    "from metrics.interval_width import MeanIntervalWidth\n",
    "\n",
    "logging.basicConfig(level=logging.INFO, format='%(levelname)s %(filename)s:%(lineno)s %(funcName)s() %(message)s')"
   ],
   "metadata": {
    "collapsed": false,
    "pycharm": {
     "name": "#%%\n"
    }
   }
  },
  {
   "cell_type": "markdown",
   "source": [
    "%pwd"
   ],
   "metadata": {
    "collapsed": false,
    "pycharm": {
     "name": "#%% md\n"
    }
   }
  },
  {
   "cell_type": "code",
   "execution_count": 2,
   "outputs": [],
   "source": [
    "experiment_group_dir = '../../../assets/experimental_results/exp_01_stankeviciute_correction'\n",
    "experiment_dirs = ['bonferroni', 'independent', 'no']"
   ],
   "metadata": {
    "collapsed": false,
    "pycharm": {
     "name": "#%%\n"
    }
   }
  },
  {
   "cell_type": "markdown",
   "source": [
    "## MAE"
   ],
   "metadata": {
    "collapsed": false,
    "pycharm": {
     "name": "#%% md\n"
    }
   }
  },
  {
   "cell_type": "code",
   "execution_count": 3,
   "outputs": [
    {
     "name": "stdout",
     "output_type": "stream",
     "text": [
      "underlying model mae on test set: {'bonferroni': 0.1854371654756801, 'independent': 0.18557232331138673, 'no': 0.18633515334804865}\n"
     ]
    }
   ],
   "source": [
    "mae_results = {exp_dir: MAE.load(\n",
    "    os.path.join(os.path.join(experiment_group_dir, exp_dir + '/summary'), MAE.snake_name())) for exp_dir in\n",
    "    experiment_dirs}\n",
    "\n",
    "print('underlying model mae on test set:', mae_results)"
   ],
   "metadata": {
    "collapsed": false,
    "pycharm": {
     "name": "#%%\n"
    }
   }
  },
  {
   "cell_type": "markdown",
   "source": [
    "Since they all perform more or less the same, I won't dive deeper into it."
   ],
   "metadata": {
    "collapsed": false,
    "pycharm": {
     "name": "#%% md\n"
    }
   }
  },
  {
   "cell_type": "markdown",
   "source": [
    "## Coverage Rate"
   ],
   "metadata": {
    "collapsed": false,
    "pycharm": {
     "name": "#%% md\n"
    }
   }
  },
  {
   "cell_type": "code",
   "execution_count": 4,
   "outputs": [
    {
     "data": {
      "text/plain": "<Figure size 288x288 with 1 Axes>",
      "image/png": "[encoded data removed]"
     },
     "metadata": {
      "needs_background": "light"
     },
     "output_type": "display_data"
    }
   ],
   "source": [
    "cr_results = [CoverageRate.load(\n",
    "    os.path.join(os.path.join(experiment_group_dir, exp_dir + '/summary'), CoverageRate.snake_name())) for exp_dir in\n",
    "    experiment_dirs]\n",
    "CoverageRate.comparative_plot(cr_results, ['Bonferroni', 'Independent', 'None', 'Target'],\n",
    "                              # save_path='comparison/' + CoverageRate.snake_name() + '.png'\n",
    "                              )"
   ],
   "metadata": {
    "collapsed": false,
    "pycharm": {
     "name": "#%%\n"
    }
   }
  },
  {
   "cell_type": "code",
   "execution_count": 5,
   "outputs": [
    {
     "data": {
      "text/plain": "      Bonferroni  Independent     None\n0.10     0.38176      0.10940  0.00002\n0.20     0.42790      0.21462  0.00044\n0.30     0.47876      0.31338  0.00278\n0.40     0.53392      0.41612  0.01176\n0.50     0.59524      0.51564  0.03608\n0.60     0.66274      0.61350  0.08592\n0.70     0.73508      0.71210  0.18086\n0.80     0.81558      0.80658  0.34370\n0.90     0.90396      0.90524  0.60392\n0.95     1.00000      1.00000  1.00000",
      "text/html": "<div>\n<style scoped>\n    .dataframe tbody tr th:only-of-type {\n        vertical-align: middle;\n    }\n\n    .dataframe tbody tr th {\n        vertical-align: top;\n    }\n\n    .dataframe thead th {\n        text-align: right;\n    }\n</style>\n<table border=\"1\" class=\"dataframe\">\n  <thead>\n    <tr style=\"text-align: right;\">\n      <th></th>\n      <th>Bonferroni</th>\n      <th>Independent</th>\n      <th>None</th>\n    </tr>\n  </thead>\n  <tbody>\n    <tr>\n      <th>0.10</th>\n      <td>0.38176</td>\n      <td>0.10940</td>\n      <td>0.00002</td>\n    </tr>\n    <tr>\n      <th>0.20</th>\n      <td>0.42790</td>\n      <td>0.21462</td>\n      <td>0.00044</td>\n    </tr>\n    <tr>\n      <th>0.30</th>\n      <td>0.47876</td>\n      <td>0.31338</td>\n      <td>0.00278</td>\n    </tr>\n    <tr>\n      <th>0.40</th>\n      <td>0.53392</td>\n      <td>0.41612</td>\n      <td>0.01176</td>\n    </tr>\n    <tr>\n      <th>0.50</th>\n      <td>0.59524</td>\n      <td>0.51564</td>\n      <td>0.03608</td>\n    </tr>\n    <tr>\n      <th>0.60</th>\n      <td>0.66274</td>\n      <td>0.61350</td>\n      <td>0.08592</td>\n    </tr>\n    <tr>\n      <th>0.70</th>\n      <td>0.73508</td>\n      <td>0.71210</td>\n      <td>0.18086</td>\n    </tr>\n    <tr>\n      <th>0.80</th>\n      <td>0.81558</td>\n      <td>0.80658</td>\n      <td>0.34370</td>\n    </tr>\n    <tr>\n      <th>0.90</th>\n      <td>0.90396</td>\n      <td>0.90524</td>\n      <td>0.60392</td>\n    </tr>\n    <tr>\n      <th>0.95</th>\n      <td>1.00000</td>\n      <td>1.00000</td>\n      <td>1.00000</td>\n    </tr>\n  </tbody>\n</table>\n</div>"
     },
     "execution_count": 5,
     "metadata": {},
     "output_type": "execute_result"
    }
   ],
   "source": [
    "cr_df = pd.DataFrame([[*cr_results[i][1]] for i in range(len(cr_results))], columns=1 - cr_results[0][0],\n",
    "                     index=['Bonferroni', 'Independent', 'None']).T\n",
    "cr_df.to_csv(os.path.join(experiment_group_dir, f'comparison/{CoverageRate.snake_name()}.csv'))\n",
    "cr_df"
   ],
   "metadata": {
    "collapsed": false,
    "pycharm": {
     "name": "#%%\n"
    }
   }
  },
  {
   "cell_type": "markdown",
   "source": [
    "### Coverage Rate By Time Step"
   ],
   "metadata": {
    "collapsed": false,
    "pycharm": {
     "name": "#%% md\n"
    }
   }
  },
  {
   "cell_type": "code",
   "execution_count": 6,
   "outputs": [],
   "source": [
    "cr_ts_results = [CoverageRateByTimeStep.load(os.path.join(\n",
    "    os.path.join(experiment_group_dir, exp_dir + '/summary'),\n",
    "    CoverageRateByTimeStep.snake_name())\n",
    ") for exp_dir in experiment_dirs]"
   ],
   "metadata": {
    "collapsed": false,
    "pycharm": {
     "name": "#%%\n"
    }
   }
  },
  {
   "cell_type": "code",
   "execution_count": 7,
   "outputs": [
    {
     "data": {
      "text/plain": "                                             Bonferroni  \\\n0.10  [0.8200200000000002, 0.8203200000000003, 0.821...   \n0.20  [0.8394199999999999, 0.83974, 0.84169999999999...   \n0.30  [0.8587399999999996, 0.8582400000000001, 0.861...   \n0.40  [0.8779999999999998, 0.8789200000000004, 0.880...   \n0.50  [0.8986400000000008, 0.8982000000000007, 0.900...   \n0.60  [0.9187400000000003, 0.9180800000000001, 0.920...   \n0.70  [0.9386800000000004, 0.9378399999999997, 0.939...   \n0.80  [0.9592799999999994, 0.9582399999999995, 0.960...   \n0.90  [0.9792199999999995, 0.9791199999999998, 0.980...   \n0.95                          [1.0, 1.0, 1.0, 1.0, 1.0]   \n\n                                            Independent  \\\n0.10  [0.6318400000000002, 0.63362, 0.63262000000000...   \n0.20  [0.7282799999999995, 0.7257600000000001, 0.724...   \n0.30  [0.7872599999999998, 0.7851, 0.785139999999999...   \n0.40  [0.8342399999999996, 0.8324599999999998, 0.832...   \n0.50  [0.8731200000000001, 0.8714599999999996, 0.870...   \n0.60  [0.9045400000000002, 0.9018200000000002, 0.903...   \n0.70  [0.9337200000000001, 0.9309799999999997, 0.931...   \n0.80  [0.9570000000000001, 0.9566399999999996, 0.956...   \n0.90  [0.9804999999999993, 0.9799599999999999, 0.979...   \n0.95                          [1.0, 1.0, 1.0, 1.0, 1.0]   \n\n                                                   None  \n0.10  [0.10277999999999995, 0.10206, 0.1009999999999...  \n0.20  [0.20254000000000005, 0.19982, 0.1989200000000...  \n0.30  [0.3018799999999999, 0.29983999999999994, 0.30...  \n0.40  [0.4016800000000002, 0.40049999999999986, 0.40...  \n0.50  [0.5030999999999999, 0.49968, 0.50014, 0.50076...  \n0.60  [0.6031799999999998, 0.60064, 0.59921999999999...  \n0.70  [0.70572, 0.7009800000000002, 0.69987999999999...  \n0.80  [0.8047200000000002, 0.8014800000000001, 0.800...  \n0.90  [0.90286, 0.9006800000000003, 0.90044000000000...  \n0.95                          [1.0, 1.0, 1.0, 1.0, 1.0]  ",
      "text/html": "<div>\n<style scoped>\n    .dataframe tbody tr th:only-of-type {\n        vertical-align: middle;\n    }\n\n    .dataframe tbody tr th {\n        vertical-align: top;\n    }\n\n    .dataframe thead th {\n        text-align: right;\n    }\n</style>\n<table border=\"1\" class=\"dataframe\">\n  <thead>\n    <tr style=\"text-align: right;\">\n      <th></th>\n      <th>Bonferroni</th>\n      <th>Independent</th>\n      <th>None</th>\n    </tr>\n  </thead>\n  <tbody>\n    <tr>\n      <th>0.10</th>\n      <td>[0.8200200000000002, 0.8203200000000003, 0.821...</td>\n      <td>[0.6318400000000002, 0.63362, 0.63262000000000...</td>\n      <td>[0.10277999999999995, 0.10206, 0.1009999999999...</td>\n    </tr>\n    <tr>\n      <th>0.20</th>\n      <td>[0.8394199999999999, 0.83974, 0.84169999999999...</td>\n      <td>[0.7282799999999995, 0.7257600000000001, 0.724...</td>\n      <td>[0.20254000000000005, 0.19982, 0.1989200000000...</td>\n    </tr>\n    <tr>\n      <th>0.30</th>\n      <td>[0.8587399999999996, 0.8582400000000001, 0.861...</td>\n      <td>[0.7872599999999998, 0.7851, 0.785139999999999...</td>\n      <td>[0.3018799999999999, 0.29983999999999994, 0.30...</td>\n    </tr>\n    <tr>\n      <th>0.40</th>\n      <td>[0.8779999999999998, 0.8789200000000004, 0.880...</td>\n      <td>[0.8342399999999996, 0.8324599999999998, 0.832...</td>\n      <td>[0.4016800000000002, 0.40049999999999986, 0.40...</td>\n    </tr>\n    <tr>\n      <th>0.50</th>\n      <td>[0.8986400000000008, 0.8982000000000007, 0.900...</td>\n      <td>[0.8731200000000001, 0.8714599999999996, 0.870...</td>\n      <td>[0.5030999999999999, 0.49968, 0.50014, 0.50076...</td>\n    </tr>\n    <tr>\n      <th>0.60</th>\n      <td>[0.9187400000000003, 0.9180800000000001, 0.920...</td>\n      <td>[0.9045400000000002, 0.9018200000000002, 0.903...</td>\n      <td>[0.6031799999999998, 0.60064, 0.59921999999999...</td>\n    </tr>\n    <tr>\n      <th>0.70</th>\n      <td>[0.9386800000000004, 0.9378399999999997, 0.939...</td>\n      <td>[0.9337200000000001, 0.9309799999999997, 0.931...</td>\n      <td>[0.70572, 0.7009800000000002, 0.69987999999999...</td>\n    </tr>\n    <tr>\n      <th>0.80</th>\n      <td>[0.9592799999999994, 0.9582399999999995, 0.960...</td>\n      <td>[0.9570000000000001, 0.9566399999999996, 0.956...</td>\n      <td>[0.8047200000000002, 0.8014800000000001, 0.800...</td>\n    </tr>\n    <tr>\n      <th>0.90</th>\n      <td>[0.9792199999999995, 0.9791199999999998, 0.980...</td>\n      <td>[0.9804999999999993, 0.9799599999999999, 0.979...</td>\n      <td>[0.90286, 0.9006800000000003, 0.90044000000000...</td>\n    </tr>\n    <tr>\n      <th>0.95</th>\n      <td>[1.0, 1.0, 1.0, 1.0, 1.0]</td>\n      <td>[1.0, 1.0, 1.0, 1.0, 1.0]</td>\n      <td>[1.0, 1.0, 1.0, 1.0, 1.0]</td>\n    </tr>\n  </tbody>\n</table>\n</div>"
     },
     "execution_count": 7,
     "metadata": {},
     "output_type": "execute_result"
    }
   ],
   "source": [
    "cr_ts_df = pd.DataFrame([[*cr_ts_results[i][1]] for i in range(len(cr_ts_results))], columns=1 - cr_ts_results[0][0],\n",
    "                        index=['Bonferroni', 'Independent', 'None']).T\n",
    "cr_ts_df.to_csv(os.path.join(experiment_group_dir, f'comparison/{CoverageRateByTimeStep.snake_name()}.csv'))\n",
    "cr_ts_df"
   ],
   "metadata": {
    "collapsed": false,
    "pycharm": {
     "name": "#%%\n"
    }
   }
  },
  {
   "cell_type": "markdown",
   "source": [
    "## Interval width"
   ],
   "metadata": {
    "collapsed": false,
    "pycharm": {
     "name": "#%% md\n"
    }
   }
  },
  {
   "cell_type": "code",
   "execution_count": 8,
   "outputs": [],
   "source": [
    "miw_results = [MeanIntervalWidth.load(\n",
    "    os.path.join(os.path.join(experiment_group_dir, exp_dir + '/summary'), MeanIntervalWidth.snake_name())) for exp_dir\n",
    "    in\n",
    "    experiment_dirs]"
   ],
   "metadata": {
    "collapsed": false,
    "pycharm": {
     "name": "#%%\n"
    }
   }
  },
  {
   "cell_type": "code",
   "execution_count": 9,
   "outputs": [
    {
     "data": {
      "text/plain": "<Figure size 288x288 with 1 Axes>",
      "image/png": "[encoded data removed]"
     },
     "metadata": {
      "needs_background": "light"
     },
     "output_type": "display_data"
    }
   ],
   "source": [
    "MeanIntervalWidth.comparative_plot(miw_results, ['Bonferroni', 'Independent', 'None'],\n",
    "                                   save_path=os.path.join(experiment_group_dir,\n",
    "                                                          f'comparison/{MeanIntervalWidth.snake_name()}.png'))"
   ],
   "metadata": {
    "collapsed": false,
    "pycharm": {
     "name": "#%%\n"
    }
   }
  },
  {
   "cell_type": "code",
   "execution_count": 10,
   "outputs": [
    {
     "data": {
      "text/plain": "      Bonferroni  Independent      None\n0.10    0.623357     0.419350  0.059521\n0.20    0.653047     0.509563  0.118750\n0.30    0.686273     0.579428  0.180539\n0.40    0.723134     0.644534  0.245423\n0.50    0.764912     0.708650  0.316032\n0.60    0.814039     0.774530  0.394102\n0.70    0.874302     0.851442  0.485387\n0.80    0.954559     0.943255  0.600585\n0.90    1.082809     1.084965  0.770626\n0.95         inf          inf       inf",
      "text/html": "<div>\n<style scoped>\n    .dataframe tbody tr th:only-of-type {\n        vertical-align: middle;\n    }\n\n    .dataframe tbody tr th {\n        vertical-align: top;\n    }\n\n    .dataframe thead th {\n        text-align: right;\n    }\n</style>\n<table border=\"1\" class=\"dataframe\">\n  <thead>\n    <tr style=\"text-align: right;\">\n      <th></th>\n      <th>Bonferroni</th>\n      <th>Independent</th>\n      <th>None</th>\n    </tr>\n  </thead>\n  <tbody>\n    <tr>\n      <th>0.10</th>\n      <td>0.623357</td>\n      <td>0.419350</td>\n      <td>0.059521</td>\n    </tr>\n    <tr>\n      <th>0.20</th>\n      <td>0.653047</td>\n      <td>0.509563</td>\n      <td>0.118750</td>\n    </tr>\n    <tr>\n      <th>0.30</th>\n      <td>0.686273</td>\n      <td>0.579428</td>\n      <td>0.180539</td>\n    </tr>\n    <tr>\n      <th>0.40</th>\n      <td>0.723134</td>\n      <td>0.644534</td>\n      <td>0.245423</td>\n    </tr>\n    <tr>\n      <th>0.50</th>\n      <td>0.764912</td>\n      <td>0.708650</td>\n      <td>0.316032</td>\n    </tr>\n    <tr>\n      <th>0.60</th>\n      <td>0.814039</td>\n      <td>0.774530</td>\n      <td>0.394102</td>\n    </tr>\n    <tr>\n      <th>0.70</th>\n      <td>0.874302</td>\n      <td>0.851442</td>\n      <td>0.485387</td>\n    </tr>\n    <tr>\n      <th>0.80</th>\n      <td>0.954559</td>\n      <td>0.943255</td>\n      <td>0.600585</td>\n    </tr>\n    <tr>\n      <th>0.90</th>\n      <td>1.082809</td>\n      <td>1.084965</td>\n      <td>0.770626</td>\n    </tr>\n    <tr>\n      <th>0.95</th>\n      <td>inf</td>\n      <td>inf</td>\n      <td>inf</td>\n    </tr>\n  </tbody>\n</table>\n</div>"
     },
     "execution_count": 10,
     "metadata": {},
     "output_type": "execute_result"
    }
   ],
   "source": [
    "miw_df = pd.DataFrame([[*miw_results[i][1]] for i in range(len(miw_results))], columns=1 - miw_results[0][0],\n",
    "                      index=['Bonferroni', 'Independent', 'None']).T\n",
    "miw_df.to_csv(os.path.join(experiment_group_dir, 'comparison/mean_interval_width.csv'))\n",
    "miw_df"
   ],
   "metadata": {
    "collapsed": false,
    "pycharm": {
     "name": "#%%\n"
    }
   }
  }
 ],
 "metadata": {
  "kernelspec": {
   "display_name": "Python 3",
   "language": "python",
   "name": "python3"
  },
  "language_info": {
   "codemirror_mode": {
    "name": "ipython",
    "version": 2
   },
   "file_extension": ".py",
   "mimetype": "text/x-python",
   "name": "python",
   "nbconvert_exporter": "python",
   "pygments_lexer": "ipython2",
   "version": "2.7.6"
  }
 },
 "nbformat": 4,
 "nbformat_minor": 0
}